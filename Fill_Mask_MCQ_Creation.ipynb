{
  "nbformat": 4,
  "nbformat_minor": 0,
  "metadata": {
    "colab": {
      "provenance": []
    },
    "kernelspec": {
      "name": "python3",
      "display_name": "Python 3"
    },
    "language_info": {
      "name": "python"
    }
  },
  "cells": [
    {
      "cell_type": "code",
      "execution_count": 4,
      "metadata": {
        "colab": {
          "base_uri": "https://localhost:8080/"
        },
        "id": "_1MbwF9nD72B",
        "outputId": "82d2e300-7d97-4fa0-c86a-32195994cfd6"
      },
      "outputs": [
        {
          "output_type": "stream",
          "name": "stdout",
          "text": [
            "Token: paris, Score: 0.2223\n",
            "Token: luxembourg, Score: 0.1018\n",
            "Token: lyon, Score: 0.0959\n",
            "Token: marseille, Score: 0.0758\n",
            "Token: genf, Score: 0.0663\n"
          ]
        }
      ],
      "source": [
        "from transformers import pipeline\n",
        "import random\n",
        "\n",
        "# Load the fill-mask pipeline with the specified model\n",
        "pipe = pipeline(\"fill-mask\", model=\"epfl-ml4ed/LernnaviBERT\")\n",
        "\n",
        "# Define a sentence with a masked token\n",
        "text = \"The capital of France is [MASK].\"\n",
        "\n",
        "# Run the pipeline to predict the masked word\n",
        "predictions = pipe(text)\n",
        "\n",
        "# Display predictions\n",
        "for pred in predictions:\n",
        "    print(f\"Token: {pred['token_str']}, Score: {pred['score']:.4f}\")\n"
      ]
    },
    {
      "cell_type": "code",
      "source": [
        "from transformers import pipeline\n",
        "import random\n",
        "\n",
        "# Initialize the fill-mask pipeline with the specified model\n",
        "pipe = pipeline(\"fill-mask\", model=\"epfl-ml4ed/LernnaviBERT\")\n",
        "\n",
        "def generate_mcq(text, correct_answer):\n",
        "    # Mask the correct answer in the text\n",
        "    masked_text = text.replace(correct_answer, \"[MASK]\")\n",
        "\n",
        "    # Use the fill-mask pipeline to get possible replacements\n",
        "    predictions = pipe(masked_text)\n",
        "\n",
        "    # Extract top predictions and format them as options\n",
        "    options = []\n",
        "    for pred in predictions:\n",
        "        # Exclude the correct answer to create distractors\n",
        "        if pred[\"token_str\"].lower() != correct_answer.lower():\n",
        "            options.append(pred[\"token_str\"])\n",
        "        # Stop once we have 3 distractors\n",
        "        if len(options) >= 3:\n",
        "            break\n",
        "\n",
        "    # Insert the correct answer and shuffle the options\n",
        "    options.append(correct_answer)\n",
        "    random.shuffle(options)\n",
        "\n",
        "    # Display the question and options\n",
        "    print(\"Question:\", masked_text.replace(\"[MASK]\", \"_____\"))\n",
        "    print(\"Options:\")\n",
        "    for i, option in enumerate(options, start=1):\n",
        "        print(f\"{i}. {option}\")\n",
        "\n",
        "# Example usage\n",
        "text = \"The capital of France is Paris.\"\n",
        "correct_answer = \"Paris\"\n",
        "generate_mcq(text, correct_answer)\n"
      ],
      "metadata": {
        "colab": {
          "base_uri": "https://localhost:8080/"
        },
        "id": "_1eEwiYzE1m2",
        "outputId": "b4771973-02f1-4500-836c-ceef5cef43ce"
      },
      "execution_count": 5,
      "outputs": [
        {
          "output_type": "stream",
          "name": "stdout",
          "text": [
            "Question: The capital of France is _____.\n",
            "Options:\n",
            "1. marseille\n",
            "2. Paris\n",
            "3. luxembourg\n",
            "4. lyon\n"
          ]
        }
      ]
    },
    {
      "cell_type": "code",
      "source": [
        "text = \"The longest river in the world is the Nile.\"\n",
        "correct_answer = \"Nile\"\n",
        "generate_mcq(text, correct_answer)\n"
      ],
      "metadata": {
        "colab": {
          "base_uri": "https://localhost:8080/"
        },
        "id": "9ICtuFFsGMhB",
        "outputId": "ac13ad55-c4a2-4ab2-9563-d2ce31a53b7a"
      },
      "execution_count": 16,
      "outputs": [
        {
          "output_type": "stream",
          "name": "stdout",
          "text": [
            "Question: The longest river in the world is the _____.\n",
            "Options:\n",
            "1. river\n",
            "2. colorado\n",
            "3. mississippi\n",
            "4. Nile\n"
          ]
        }
      ]
    },
    {
      "cell_type": "code",
      "source": [
        "text = \"The Great Wall of China was primarily built to protect against invasions from the north.\"\n",
        "correct_answer = \"north\"\n",
        "generate_mcq(text, correct_answer)\n"
      ],
      "metadata": {
        "colab": {
          "base_uri": "https://localhost:8080/"
        },
        "id": "FVsKIWymG-LZ",
        "outputId": "5ad53ec3-ae80-4741-ab08-eebfea473152"
      },
      "execution_count": 7,
      "outputs": [
        {
          "output_type": "stream",
          "name": "stdout",
          "text": [
            "Question: The Great Wall of China was primarily built to protect against invasions from the _____.\n",
            "Options:\n",
            "1. east\n",
            "2. north\n",
            "3. west\n",
            "4. empire\n"
          ]
        }
      ]
    },
    {
      "cell_type": "code",
      "source": [
        "text = \"Water boils at 100 degrees Celsius.\"\n",
        "correct_answer = \"100\"\n",
        "generate_mcq(text, correct_answer)\n"
      ],
      "metadata": {
        "colab": {
          "base_uri": "https://localhost:8080/"
        },
        "id": "2CfNhRG1HCIG",
        "outputId": "5f4f16f6-2727-4504-a969-c55b801b31e2"
      },
      "execution_count": 8,
      "outputs": [
        {
          "output_type": "stream",
          "name": "stdout",
          "text": [
            "Question: Water boils at _____ degrees Celsius.\n",
            "Options:\n",
            "1. 100\n",
            "2. 30\n",
            "3. 35\n",
            "4. 50\n"
          ]
        }
      ]
    },
    {
      "cell_type": "code",
      "source": [
        "text = \"William Shakespeare wrote the play Hamlet.\"\n",
        "correct_answer = \"Hamlet\"\n",
        "generate_mcq(text, correct_answer)\n"
      ],
      "metadata": {
        "colab": {
          "base_uri": "https://localhost:8080/"
        },
        "id": "L1F02hZ7HF4B",
        "outputId": "4ca2c6c5-389a-4169-be47-73b4b4c59b24"
      },
      "execution_count": 9,
      "outputs": [
        {
          "output_type": "stream",
          "name": "stdout",
          "text": [
            "Question: William Shakespeare wrote the play _____.\n",
            "Options:\n",
            "1. ##boy\n",
            "2. ##list\n",
            "3. ##mate\n",
            "4. Hamlet\n"
          ]
        }
      ]
    },
    {
      "cell_type": "code",
      "source": [
        "text = \"The powerhouse of the cell is the mitochondria.\"\n",
        "correct_answer = \"mitochondria\"\n",
        "generate_mcq(text, correct_answer)\n"
      ],
      "metadata": {
        "colab": {
          "base_uri": "https://localhost:8080/"
        },
        "id": "UvZOJcaiHI8T",
        "outputId": "a4ee11c4-b6c6-46b1-f170-f2745c34833b"
      },
      "execution_count": 10,
      "outputs": [
        {
          "output_type": "stream",
          "name": "stdout",
          "text": [
            "Question: The powerhouse of the cell is the _____.\n",
            "Options:\n",
            "1. mitochondria\n",
            "2. source\n",
            "3. cell\n",
            "4. same\n"
          ]
        }
      ]
    },
    {
      "cell_type": "code",
      "source": [
        "text = \"The speed of light is approximately 300,000 kilometers per second.\"\n",
        "correct_answer = \"300,000\"\n",
        "generate_mcq(text, correct_answer)\n"
      ],
      "metadata": {
        "colab": {
          "base_uri": "https://localhost:8080/"
        },
        "id": "vabf6XoLHMOC",
        "outputId": "6049663d-acd9-49bd-fff5-8ff3043f95c5"
      },
      "execution_count": 11,
      "outputs": [
        {
          "output_type": "stream",
          "name": "stdout",
          "text": [
            "Question: The speed of light is approximately _____ kilometers per second.\n",
            "Options:\n",
            "1. 10\n",
            "2. 127\n",
            "3. 35\n",
            "4. 300,000\n"
          ]
        }
      ]
    },
    {
      "cell_type": "code",
      "source": [
        "text = \"The Pythagorean theorem is a fundamental relation in Euclidean geometry among the three sides of a right triangle.\"\n",
        "correct_answer = \"right\"\n",
        "generate_mcq(text, correct_answer)\n"
      ],
      "metadata": {
        "colab": {
          "base_uri": "https://localhost:8080/"
        },
        "id": "TtGd8db0HPDN",
        "outputId": "82dcb1fb-84de-42ff-a969-2d438601241b"
      },
      "execution_count": 12,
      "outputs": [
        {
          "output_type": "stream",
          "name": "stdout",
          "text": [
            "Question: The Pythagorean theorem is a fundamental relation in Euclidean geometry among the three sides of a _____ triangle.\n",
            "Options:\n",
            "1. different\n",
            "2. right\n",
            "3. global\n",
            "4. single\n"
          ]
        }
      ]
    },
    {
      "cell_type": "code",
      "source": [
        "text = \"Beethoven was a famous composer from the Classical and Romantic periods.\"\n",
        "correct_answer = \"Beethoven\"\n",
        "generate_mcq(text, correct_answer)\n"
      ],
      "metadata": {
        "colab": {
          "base_uri": "https://localhost:8080/"
        },
        "id": "NC45wxc7HS73",
        "outputId": "8989eea3-790f-460c-a4fa-4eae3011bbc8"
      },
      "execution_count": 13,
      "outputs": [
        {
          "output_type": "stream",
          "name": "stdout",
          "text": [
            "Question: _____ was a famous composer from the Classical and Romantic periods.\n",
            "Options:\n",
            "1. he\n",
            "2. er\n",
            "3. Beethoven\n",
            "4. who\n"
          ]
        }
      ]
    },
    {
      "cell_type": "code",
      "source": [
        "text = \"The first programmable computer was invented in the 1940s.\"\n",
        "correct_answer = \"1940s\"\n",
        "generate_mcq(text, correct_answer)\n"
      ],
      "metadata": {
        "colab": {
          "base_uri": "https://localhost:8080/"
        },
        "id": "SAe86Ay-HW9l",
        "outputId": "4579af09-0c85-45a7-f733-5400490a731b"
      },
      "execution_count": 14,
      "outputs": [
        {
          "output_type": "stream",
          "name": "stdout",
          "text": [
            "Question: The first programmable computer was invented in the _____.\n",
            "Options:\n",
            "1. usa\n",
            "2. past\n",
            "3. 1970\n",
            "4. 1940s\n"
          ]
        }
      ]
    },
    {
      "cell_type": "code",
      "source": [
        "text = \"The chemical symbol for water is H2O.\"\n",
        "correct_answer = \"H2O\"\n",
        "generate_mcq(text, correct_answer)\n"
      ],
      "metadata": {
        "colab": {
          "base_uri": "https://localhost:8080/"
        },
        "id": "j2e2UmDfHalX",
        "outputId": "f3d99e5c-15fe-4b1d-b9f2-1f2d929b3f7b"
      },
      "execution_count": 15,
      "outputs": [
        {
          "output_type": "stream",
          "name": "stdout",
          "text": [
            "Question: The chemical symbol for water is _____.\n",
            "Options:\n",
            "1. unknown\n",
            "2. H2O\n",
            "3. transparent\n",
            "4. used\n"
          ]
        }
      ]
    },
    {
      "cell_type": "code",
      "source": [],
      "metadata": {
        "id": "gr99uassHebS"
      },
      "execution_count": null,
      "outputs": []
    }
  ]
}